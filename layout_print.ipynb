{
 "cells": [
  {
   "cell_type": "markdown",
   "id": "classified-xerox",
   "metadata": {},
   "source": [
    "# Print a simplified ETL layout from python"
   ]
  },
  {
   "cell_type": "markdown",
   "id": "faced-address",
   "metadata": {},
   "source": [
    "Printing to scale on stack exchange: https://stackoverflow.com/questions/29400116/using-matplotlib-how-can-i-print-something-actual-size"
   ]
  },
  {
   "cell_type": "code",
<<<<<<< HEAD
   "execution_count": 66,
   "id": "involved-incident",
=======
   "execution_count": 2,
   "id": "external-sponsorship",
>>>>>>> 7b839155616c0b21d5c48ba4cb9c3e26de9ffc22
   "metadata": {},
   "outputs": [],
   "source": [
    "import matplotlib.pyplot as plt\n"
   ]
  },
  {
   "cell_type": "markdown",
   "id": "awful-headquarters",
   "metadata": {},
   "source": [
    "## Simple example"
   ]
  },
  {
   "cell_type": "code",
<<<<<<< HEAD
   "execution_count": 67,
   "id": "expressed-folder",
=======
   "execution_count": 3,
   "id": "reflected-refund",
>>>>>>> 7b839155616c0b21d5c48ba4cb9c3e26de9ffc22
   "metadata": {},
   "outputs": [
    {
     "data": {
      "image/png": "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\n",
      "text/plain": [
       "<Figure size 481.89x481.89 with 1 Axes>"
      ]
     },
     "metadata": {
      "needs_background": "light"
     },
     "output_type": "display_data"
    }
   ],
   "source": [
    "left_margin = 1.   # cm\n",
    "right_margin = 1.  # cm\n",
    "figure_width = 15. # cm\n",
    "figure_height = 15. # cm\n",
    "top_margin = 1.    # cm\n",
    "bottom_margin = 1. # cm\n",
    "\n",
    "box_width = left_margin + figure_width + right_margin   # cm\n",
    "box_height = top_margin + figure_height + bottom_margin # cm\n",
    "\n",
    "cm2inch = 1/2.54 # inch per cm\n",
    "\n",
    "# specifying the width and the height of the box in inches\n",
    "fig = plt.figure(figsize=(box_width*cm2inch,box_height*cm2inch))\n",
    "ax = fig.add_subplot(111)\n",
    "#ax.plot([1,2,3])\n",
    "\n",
    "ax.set_ylim(0,15)\n",
    "ax.set_xlim(0,15)\n",
    "\n",
    "ax.plot([0.5, 1.5],[0.25, 0.25],label='One cm?')\n",
    "ax.plot([6,6],[1,2], label='One cm?')\n",
    "ax.legend()\n",
    "\n",
    "fig.subplots_adjust(left   = left_margin / box_width,\n",
    "                    bottom = bottom_margin / box_height,\n",
    "                    right  = 1. - right_margin / box_width,\n",
    "                    top    = 1. - top_margin   / box_height,\n",
    "                    )\n",
    "fig.savefig('ten_x_seven_cm.png', dpi=128)\n",
    "# dpi = 128 is what works in my display for matching the designed dimensions."
   ]
  },
  {
   "cell_type": "markdown",
   "id": "pleased-snapshot",
   "metadata": {},
   "source": [
    "## ETL single SH"
   ]
  },
  {
   "cell_type": "code",
<<<<<<< HEAD
   "execution_count": 68,
   "id": "guided-individual",
=======
   "execution_count": 4,
   "id": "inclusive-improvement",
>>>>>>> 7b839155616c0b21d5c48ba4cb9c3e26de9ffc22
   "metadata": {},
   "outputs": [],
   "source": [
    "%reload_ext autoreload\n",
    "%autoreload 2\n",
    "\n",
    "from ETL import *;"
   ]
  },
  {
   "cell_type": "code",
<<<<<<< HEAD
   "execution_count": 69,
   "id": "enormous-syndication",
=======
   "execution_count": 5,
   "id": "boxed-proceeding",
   "metadata": {},
   "outputs": [],
   "source": [
    "sensor_x = 2.14\n",
    "sensor_y = 2.16\n",
    "module_x = 4.310\n",
    "module_y = 5.750"
   ]
  },
  {
   "cell_type": "code",
   "execution_count": 6,
   "id": "convinced-jamaica",
>>>>>>> 7b839155616c0b21d5c48ba4cb9c3e26de9ffc22
   "metadata": {},
   "outputs": [
    {
     "data": {
      "image/png": "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\n",
      "text/plain": [
       "<Figure size 481.89x481.89 with 1 Axes>"
      ]
     },
     "metadata": {
      "needs_background": "light"
     },
     "output_type": "display_data"
    }
   ],
   "source": [
    "\n",
    "s = Sensor(sensor_x, sensor_y,deadspace=0.03)  # 3 sides of 0.3mm, 1 side of 0.5mm\n",
    "m = Module(module_x, module_y, n_sensor_x=2, n_sensor_y=2, sensor_distance_y=sensor_y+0.02, sensor_distance_x=sensor_x+0.02)\n",
    "# this module is now 1mm larger in y\n",
    "\n",
    "left_margin = 1.   # cm\n",
    "right_margin = 1.  # cm\n",
    "figure_width = 15. # cm\n",
    "figure_height = 15. # cm\n",
    "top_margin = 1.    # cm\n",
    "bottom_margin = 1. # cm\n",
    "\n",
    "box_width = left_margin + figure_width + right_margin   # cm\n",
    "box_height = top_margin + figure_height + bottom_margin # cm\n",
    "\n",
    "# specifying the width and the height of the box in inches\n",
    "fig = plt.figure(figsize=(box_width*cm2inch,box_height*cm2inch))\n",
    "ax = fig.add_subplot(111)\n",
    "#ax.plot([1,2,3])\n",
    "\n",
    "m.populate(s)\n",
    "\n",
    "m.move_by(4,4)\n",
    "\n",
    "plt.rcParams['figure.figsize'] = [15, 15]\n",
    "\n",
    "pm = m.getPolygon()\n",
    "plt.gca().add_patch(pm)\n",
    "\n",
    "for sen in m.sensors:\n",
    "    plt.gca().add_patch(sen.getPolygon())\n",
    "    plt.gca().add_patch(sen.getPolygon(active=True))\n",
    "\n",
    "\n",
    "ax.set_ylim(0,15)\n",
    "ax.set_xlim(0,15)\n",
    "\n",
    "ax.plot([0.1,1.1],[0.1,0.1],label='1 cm')\n",
    "ax.plot([0.1,0.1],[0.1,1.1], label='1 cm')\n",
    "ax.legend()\n",
    "\n",
    "fig.subplots_adjust(left   = left_margin / box_width,\n",
    "                    bottom = bottom_margin / box_height,\n",
    "                    right  = 1. - right_margin / box_width,\n",
    "                    top    = 1. - top_margin   / box_height,\n",
    "                    )\n",
    "\n",
    "fig.savefig('module_scale.png', dpi=300)\n",
    "fig.savefig('module_scale.pdf', dpi=500)\n",
    "\n",
    "plt.axis('scaled')\n",
    "plt.show()"
   ]
  },
  {
   "cell_type": "markdown",
   "id": "necessary-affect",
   "metadata": {},
   "source": [
    "# Supermodule"
   ]
  },
  {
   "cell_type": "code",
   "execution_count": 7,
   "id": "eastern-massachusetts",
   "metadata": {},
   "outputs": [],
   "source": [
    "s = Sensor(sensor_x, sensor_y,deadspace=0.03)  # 3 sides of 0.3mm, 1 side of 0.5mm\n",
    "m = Module(4.310, 5.750, n_sensor_x=2, n_sensor_y=2, sensor_distance_y=sensor_y+0.02, sensor_distance_x=sensor_x+0.02)\n",
    "# this module is now 1mm larger in y\n",
    "detector = {}\n",
    "edge_x = 6  # 6mm is the default\n",
    "\n",
    "detector = {}\n",
    "r_inner = 31.5\n",
    "r_outer = 118.5\n",
    "\n",
    "m.populate(s) #put sensors on module\n",
    "module_gap = .05\n",
    "rb = ReadoutBoard(1, module_y, color='green')\n",
    "pb = ReadoutBoard(1, 2.95, color='red')\n",
    "\n",
    "SM = SuperModule(m, pb, rb, n_modules=3, module_gap=module_gap, orientation='above', cm=True)\n"
   ]
  },
  {
   "cell_type": "code",
   "execution_count": 8,
   "id": "streaming-agency",
   "metadata": {},
   "outputs": [
    {
     "data": {
      "image/png": "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\n",
      "text/plain": [
       "<Figure size 481.89x481.89 with 1 Axes>"
      ]
     },
     "metadata": {
      "needs_background": "light"
     },
     "output_type": "display_data"
    }
   ],
   "source": [
    "left_margin = 1.   # cm\n",
    "right_margin = 1.  # cm\n",
    "figure_width = 15. # cm\n",
    "figure_height = 15. # cm\n",
    "top_margin = 1.    # cm\n",
    "bottom_margin = 1. # cm\n",
    "\n",
    "box_width = left_margin + figure_width + right_margin   # cm\n",
    "box_height = top_margin + figure_height + bottom_margin # cm\n",
    "\n",
    "# specifying the width and the height of the box in inches\n",
    "fig = plt.figure(figsize=(box_width*cm2inch,box_height*cm2inch))\n",
    "ax = fig.add_subplot(111)\n",
    "\n",
    "plt.rcParams['figure.figsize'] = [15, 15]\n",
    "\n",
    "SM.move_by(7,5)\n",
    "\n",
    "plt.gca().add_patch(SM.PB.getPolygon())\n",
    "plt.gca().add_patch(SM.RB.getPolygon())\n",
    "\n",
    "for mod in SM.modules:\n",
    "    plt.gca().add_patch(mod.getPolygon())\n",
    "    for sen in mod.sensors:\n",
    "        plt.gca().add_patch(sen.getPolygon())\n",
    "        plt.gca().add_patch(sen.getPolygon(active=True))\n",
    "\n",
    "plt.gca().add_patch(SM.VTRX.getPolygon())\n",
    "        \n",
    "ax.set_ylim(0,15)\n",
    "ax.set_xlim(0,15)\n",
    "\n",
    "ax.plot([0.1,1.1],[0.1,0.1],label='1 cm')\n",
    "ax.plot([0.1,0.1],[0.1,1.1], label='1 cm')\n",
    "ax.legend()\n",
    "\n",
    "fig.subplots_adjust(left   = left_margin / box_width,\n",
    "                    bottom = bottom_margin / box_height,\n",
    "                    right  = 1. - right_margin / box_width,\n",
    "                    top    = 1. - top_margin   / box_height,\n",
    "                    )\n",
    "\n",
    "fig.savefig('supermodule_scale.png', dpi=300)\n",
    "fig.savefig('supermodule_scale.pdf', dpi=500)\n",
    "\n",
    "plt.axis('scaled')\n",
    "plt.show()\n"
   ]
  },
  {
   "cell_type": "markdown",
   "id": "southern-auction",
   "metadata": {},
   "source": [
    "# Full detector"
   ]
  },
  {
   "cell_type": "code",
   "execution_count": 9,
   "id": "minimal-variable",
   "metadata": {},
   "outputs": [],
   "source": [
    "from yaml import load, dump\n",
    "try:\n",
    "    from yaml import CLoader as Loader, CDumper as Dumper\n",
    "except ImportError:\n",
    "    from yaml import Loader, Dumper\n",
    "\n",
    "with open('layouts/database_new.yaml') as f:\n",
    "    database_new = load(f, Loader=Loader)\n",
    "\n",
    "disk_new = database_new['new']"
   ]
  },
  {
   "cell_type": "code",
   "execution_count": 10,
   "id": "subtle-fusion",
   "metadata": {},
   "outputs": [],
   "source": [
    "new_layout = {}\n",
    "\n",
    "new_layout['D1'] = Dee(315, 1185)\n",
    "new_layout['D1'].fromCenters(disk_new['disk1']['front'], s, cm=True)\n",
    "\n",
    "new_layout['D2'] = Dee(315, 1185)\n",
    "new_layout['D2'].fromCenters(disk_new['disk1']['back'], s, cm=True)\n",
    "\n",
    "new_layout['D3'] = Dee(315, 1185)\n",
    "new_layout['D3'].fromCenters(disk_new['disk2']['front'], s, cm=True)\n",
    "\n",
    "new_layout['D4'] = Dee(315, 1185)\n",
    "new_layout['D4'].fromCenters(disk_new['disk2']['back'], s, cm=True)"
   ]
  },
  {
   "cell_type": "code",
   "execution_count": 11,
   "id": "distinct-cream",
   "metadata": {},
   "outputs": [],
   "source": [
    "d = new_layout['D2']\n",
    "\n",
    "x_centers = [ sens.x for sens in d.sensors ]\n",
    "y_centers = []\n",
    "for i, sens in enumerate(d.sensors):\n",
    "    if sens.x>0:\n",
    "        y_centers.append(sens.y)\n",
    "\n",
    "y_positions_individual = set(y_centers)\n",
    "\n",
    "y_counts = []\n",
    "for y in reversed(sorted(y_positions_individual)):\n",
    "    y_counts.append((y, int(y_centers.count(y))))\n",
    "    \n",
    "count_vector = y_counts[::2]\n",
    "\n",
    "partitions = []\n",
    "for module_count in count_vector:\n",
    "    partitions.append((module_count[0], getPartition(module_count[1], flavors=[3,6,7])))\n",
    "\n",
    "mod_partitions = []\n",
    "\n",
    "for part in partitions:\n",
    "    if abs(part[0])<500:\n",
    "        if part[1][-1] == 6:\n",
    "            new_part = part[1][:-1] + [3,3]\n",
    "        else:\n",
    "            new_part = part[1]\n",
    "    else:\n",
    "        new_part = part[1]\n",
    "    if len(new_part)>0:\n",
    "        mod_partitions.append((part[0], len(new_part), new_part))"
   ]
  },
  {
   "cell_type": "code",
   "execution_count": 12,
   "id": "absent-walter",
   "metadata": {},
   "outputs": [],
   "source": [
    "modify_partitions = True  # This switches on/off the forced short RBs at the center\n",
    "\n",
    "n_readout_boards = {3:0, 6:0, 7:0}\n",
    "n_modules = 0\n",
    "\n",
    "faces = ['D1']\n",
    "\n",
    "for face in faces:\n",
    "    y_centers = []\n",
    "    for i, sens in enumerate(d.sensors):\n",
    "        if sens.x>0:\n",
    "            y_centers.append(sens.y)\n",
    "        y_positions_individual = set(y_centers)\n",
    "    y_counts = []\n",
    "    for y in reversed(sorted(y_positions_individual)):\n",
    "        y_counts.append((y, int(y_centers.count(y))))\n",
    "\n",
    "    count_vector = y_counts[::2]\n",
    "    partitions = []\n",
    "    for module_count in count_vector:\n",
    "        #print (module_count)\n",
    "        n_modules += module_count[1]\n",
    "        partitions.append((module_count[0], getPartition(module_count[1], flavors=[3,6,7])))\n",
    "        \n",
    "    mod_partitions = []\n",
    "\n",
    "    for part in partitions:\n",
    "        \n",
    "        if abs(part[0])<50.0 and modify_partitions:\n",
    "            if part[1][-1] == 6:\n",
    "                new_part = part[1][:-1] + [3,3]\n",
    "            elif part[1][-2] == 6 and part[1][-1] == 3 and abs(part[0])>40.0:\n",
    "                new_part = part[1][:-2] + [3,3,3]\n",
    "            else:\n",
    "                new_part = part[1]\n",
    "        else:\n",
    "            new_part = part[1]\n",
    "        if len(new_part)>0:\n",
    "            mod_partitions.append((part[0], len(new_part), new_part))\n",
    "            n_readout_boards[3] += new_part.count(3)*4  # multiply with 4 for full face (mirrored) + second endcap\n",
    "            n_readout_boards[6] += new_part.count(6)*4\n",
    "            n_readout_boards[7] += new_part.count(7)*4"
   ]
  },
  {
   "cell_type": "code",
   "execution_count": 13,
   "id": "standing-litigation",
   "metadata": {},
   "outputs": [],
   "source": [
    "centers = [ (sens.x, sens.y) for sens in d.sensors if sens.x>0 ]\n",
    "\n",
    "centers.sort(key=lambda y: y[1], reverse=True)\n",
    "\n",
    "y_centers = []\n",
    "for i, sens in enumerate(d.sensors):\n",
    "    if sens.x>0:\n",
    "        y_centers.append(sens.y)\n",
    "\n",
    "#y_centers = [ sens.y for sens in d.sensors ]\n",
    "y_centers.sort(reverse=True)\n",
    "\n",
    "y_positions_individual = set(y_centers)\n",
    "y_positions_individual = list(y_positions_individual)\n",
    "y_positions_individual.sort(reverse=True)\n",
    "\n",
    "y_centers_module = (np.array(y_positions_individual[0::2]) + np.array(y_positions_individual[1::2]))/2\n",
    "\n",
    "x_centers_module = {y:[] for y in y_centers_module}\n",
    "for x, y in centers:\n",
    "    if y in y_positions_individual[0::2]:\n",
    "        i = list(y_positions_individual[0::2]).index(y)\n",
    "        x_centers_module[y_centers_module[i]].append(x)"
   ]
  },
  {
   "cell_type": "code",
   "execution_count": 14,
   "id": "adopted-freedom",
   "metadata": {},
   "outputs": [],
   "source": [
    "for face in ['D2']:\n",
    "    y_centers = []\n",
    "    for i, sens in enumerate(d.sensors):\n",
    "        if sens.x>0:\n",
    "            y_centers.append(sens.y)\n",
    "            \n",
    "    #y_centers = [ sens.y for sens in new_layout[face].sensors ]\n",
    "    y_positions_individual = set(y_centers)\n",
    "    y_counts = []\n",
    "    for y in reversed(sorted(y_positions_individual)):\n",
    "        if -415>y>-420:\n",
    "            y_counts.append((y, int(y_centers.count(y))+2))\n",
    "        else:\n",
    "            y_counts.append((y, int(y_centers.count(y))))\n",
    "\n",
    "    count_vector = y_counts[::2]\n",
    "    partitions = []\n",
    "    for module_count in count_vector:\n",
    "        partitions.append((module_count[0], getPartition(module_count[1], flavors=[3,6,7])))\n",
    "        \n",
    "    mod_partitions = []\n",
    "\n",
    "    for part in partitions:\n",
    "        if abs(part[0])<50.0 and modify_partitions:\n",
    "            if part[1][-1] == 6:\n",
    "                new_part = part[1][:-1] + [3,3]\n",
    "            elif part[1][-2] == 6 and part[1][-1] == 3 and abs(part[0])>40.0:\n",
    "                new_part = part[1][:-2] + [3,3,3]\n",
    "            else:\n",
    "                new_part = part[1]\n",
    "        else:\n",
    "            new_part = part[1]\n",
    "        if len(new_part)>0:\n",
    "            mod_partitions.append((part[0], len(new_part), new_part))"
   ]
  },
  {
   "cell_type": "code",
   "execution_count": 15,
   "id": "virgin-polyester",
   "metadata": {},
   "outputs": [],
   "source": [
    "supermodules = []\n",
    "\n",
    "for i, y in enumerate(x_centers_module.keys()):\n",
    "    _, __, partition = mod_partitions[i]\n",
    "    start = 0\n",
    "    for n_mod in partition:\n",
    "        tmp = copy.deepcopy(SuperModule.fromSuperModule(SM, n_modules=n_mod, module_gap=SM.module_gap, orientation=SM.orientation, color=colors[n_mod], cm=True))\n",
    "        x = sum(x_centers_module[y][start:start+n_mod])/n_mod\n",
    "        tmp.move_by(x, y+pb.width/2) ## switch between + and - for D1/D2\n",
    "        start += n_mod\n",
    "        supermodules.append(tmp)"
   ]
  },
  {
   "cell_type": "code",
   "execution_count": 16,
   "id": "fluid-oklahoma",
   "metadata": {},
   "outputs": [
    {
     "data": {
      "image/png": "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\n",
      "text/plain": [
       "<Figure size 1080x1080 with 1 Axes>"
      ]
     },
     "metadata": {
      "needs_background": "light"
     },
     "output_type": "display_data"
    }
   ],
   "source": [
    "SM = SuperModule(m, pb, rb, n_modules=3, orientation='above')\n",
    "\n",
    "face = 'D2'\n",
    "\n",
    "inner = plt.Circle((0, 0), 31.5,fill=None, edgecolor='r')\n",
    "rad_boarder = plt.Circle((0, 0), 52.0,fill=None, edgecolor='black', linewidth=1)\n",
    "outer = plt.Circle((0, 0), 118.5,fill=None, edgecolor='r')\n",
    "\n",
    "\n",
    "plt.rcParams['figure.figsize'] = [15, 15]\n",
    "\n",
    "plt.gca().add_patch(inner)\n",
    "plt.gca().add_patch(rad_boarder)\n",
    "plt.gca().add_patch(outer)\n",
    "\n",
    "for SM in supermodules:\n",
    "    plt.gca().add_patch(SM.getPolygon(alpha=0.5, fill=False))\n",
    "    plt.gca().add_patch(SM.VTRX.getPolygon(alpha=1.0))\n",
    "    plt.gca().add_patch(SM.PB.getPolygon(fill=False))\n",
    "    plt.gca().add_patch(SM.RB.getPolygon(fill=False))\n",
    "\n",
    "if False:\n",
    "    for dee in [face]:#new_layout:\n",
    "        for sen in new_layout[dee].sensors:\n",
    "            plt.gca().add_patch(sen.getPolygon(active=True, alpha=0.5))\n",
    "\n",
    "holes = []\n",
    "holes.append(plt.Circle((19.0, -32.9), 4.0,color='gray'))\n",
    "holes.append(plt.Circle((19.0, 32.9), 4.0,color='gray'))\n",
    "holes.append(plt.Circle((38.0, 0), 4.0,color='gray'))\n",
    "\n",
    "holes.append(plt.Circle((5.0, 113.53), 3.2,color='gray'))\n",
    "holes.append(plt.Circle((4.7, 107.6), 1.6,color='gray'))\n",
    "\n",
    "holes.append(plt.Circle((5.0, -113.53), 3.2,color='gray'))\n",
    "holes.append(plt.Circle((4.7, -107.6), 1.6,color='gray'))\n",
    "\n",
    "holes.append(plt.Circle((99.85, 40.315), 1.6,color='gray'))\n",
    "holes.append(plt.Circle((105.6, 42.7), 3.2,color='gray'))\n",
    "\n",
    "holes.append(plt.Circle((99.85, -40.315), 1.6,color='gray'))\n",
    "holes.append(plt.Circle((105.6, -42.7), 3.2,color='gray'))\n",
    "\n",
    "\n",
    "for hole in holes:\n",
    "    plt.gca().add_patch(hole)\n",
    "\n",
    "    \n",
    "plt.axis('scaled')\n",
    "plt.show()"
   ]
  },
  {
   "cell_type": "code",
   "execution_count": null,
   "id": "coated-xerox",
   "metadata": {},
   "outputs": [],
   "source": []
  },
  {
   "cell_type": "code",
<<<<<<< HEAD
   "execution_count": 70,
   "id": "configured-census",
=======
   "execution_count": null,
   "id": "opposed-salon",
>>>>>>> 7b839155616c0b21d5c48ba4cb9c3e26de9ffc22
   "metadata": {},
   "outputs": [],
   "source": [
    "sensor_x = 2.14\n",
    "sensor_y = 2.16\n",
    "s = Sensor(sensor_x, sensor_y,deadspace=0.03)  # 3 sides of 0.3mm, 1 side of 0.5mm\n",
    "m = Module(4.310, 5.750, n_sensor_x=2, n_sensor_y=2, sensor_distance_y=sensor_y+0.02, sensor_distance_x=sensor_x+0.02)\n",
    "# this module is now 1mm larger in y\n",
    "sensor_gap_x = 0.03\n",
    "sensor_gap_y = 0.05\n",
    "\n",
    "rb = ReadoutBoard(10, module_y, color='green')\n",
    "pb = ReadoutBoard(10,2.95, color='red')\n"
   ]
  },
  {
   "cell_type": "code",
   "execution_count": null,
   "id": "15c9e118",
   "metadata": {},
   "outputs": [],
   "source": []
  },
  {
   "cell_type": "code",
   "execution_count": 71,
   "id": "3d02bcb2",
   "metadata": {},
   "outputs": [],
   "source": [
    "r_inner = 31.5\n",
    "r_outer = 118.5\n",
    "module_x = 2.14\n",
    "module_y = 2.16\n",
    "module_gap = 0.5\n",
    "\n",
    "edge_x = 6  # 6mm is the default\n",
    "\n",
    "detector = {}\n",
    "\n",
    "SM = SuperModule(m, pb, rb, n_modules=3, module_gap=module_gap, orientation='below')\n",
    "\n",
    "detector['disk1_front'] = Dee(r_inner, r_outer)\n",
    "detector['disk1_front'].populate(SM, edge_x=edge_x, center_RB=True)"
   ]
  },
  {
   "cell_type": "code",
   "execution_count": null,
   "id": "5cea6f7b",
   "metadata": {
    "scrolled": false
   },
   "outputs": [],
   "source": []
  },
  {
   "cell_type": "code",
   "execution_count": 73,
   "id": "506b662c",
   "metadata": {},
   "outputs": [
    {
     "data": {
      "image/png": "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\n",
      "text/plain": [
       "<Figure size 481.89x481.89 with 1 Axes>"
      ]
     },
     "metadata": {
      "needs_background": "light"
     },
     "output_type": "display_data"
    }
   ],
   "source": [
    "s = Sensor(sensor_x, sensor_y,deadspace=0.03)  # 3 sides of 0.3mm, 1 side of 0.5mm\n",
    "m = Module(4.310, 5.750, n_sensor_x=2, n_sensor_y=2, sensor_distance_y=sensor_y+0.02, sensor_distance_x=sensor_x+0.02)\n",
    "# this module is now 1mm larger in y\n",
    "detector = {}\n",
    "edge_x = 6  # 6mm is the default\n",
    "\n",
    "detector = {}\n",
    "r_inner = 31.5\n",
    "r_outer = 118.5\n",
    "\n",
    "m.populate(s) #put sensors on module\n",
    "module_x = 4.310\n",
    "module_y = 5.750\n",
    "module_gap = .05\n",
    "rb = ReadoutBoard(10, module_y, color='green')\n",
    "pb = ReadoutBoard(10,2.95, color='red')\n",
    "\n",
    "SM = SuperModule(m, pb, rb, n_modules=3, module_gap=module_gap, orientation='below')\n",
    "\n",
    "m.populate(s)\n",
    "SM.move_by(7,7)\n",
    "    \n",
    "detector['disk1_front'] = Dee(r_inner, r_outer)\n",
    "detector['disk1_front'].populate(SM, edge_x=edge_x, center_RB=True)\n",
    "\n",
    "fig = plt.figure(figsize=(box_width*cm2inch,box_height*cm2inch))\n",
    "ax = fig.add_subplot(111)\n",
    "plt.rcParams['figure.figsize'] = [15, 15]\n",
    "\n",
    "#plt.gca().add_patch(SM.getPolygon())\n",
    "plt.gca().add_patch(SM.PB.getPolygon())\n",
    "plt.gca().add_patch(SM.RB.getPolygon())\n",
    "\n",
    "ax.set_ylim(0,15)\n",
    "ax.set_xlim(0,15)\n",
    "for mod in SM.modules:\n",
    "    plt.gca().add_patch(mod.getPolygon())\n",
    "    for sen in mod.sensors:\n",
    "        plt.gca().add_patch(sen.getPolygon())\n",
    "        plt.gca().add_patch(sen.getPolygon(active=True))\n",
    "fig.subplots_adjust(left   = left_margin / box_width,\n",
    "                    bottom = bottom_margin / box_height,\n",
    "                    right  = 1. - right_margin / box_width,\n",
    "                    top    = 1. - top_margin   / box_height,\n",
    "                    )\n",
    "\n",
    "fig.savefig('module_scale.png', dpi=300)\n",
    "fig.savefig('module_scale.pdf', dpi=500)\n",
    "\n",
    "plt.axis('scaled')\n",
    "plt.show()"
   ]
  },
  {
   "cell_type": "code",
   "execution_count": null,
   "id": "1ea512a2",
   "metadata": {},
   "outputs": [],
   "source": []
  },
  {
   "cell_type": "code",
   "execution_count": null,
   "id": "781b9ebe",
   "metadata": {},
   "outputs": [],
   "source": []
  },
  {
   "cell_type": "code",
   "execution_count": null,
   "id": "1e8e50ea",
   "metadata": {},
   "outputs": [],
   "source": []
  },
  {
   "cell_type": "code",
   "execution_count": null,
   "id": "69b4c958",
   "metadata": {},
   "outputs": [],
   "source": []
  }
 ],
 "metadata": {
  "kernelspec": {
   "display_name": "Python 3 (ipykernel)",
   "language": "python",
   "name": "python3"
  },
  "language_info": {
   "codemirror_mode": {
    "name": "ipython",
    "version": 3
   },
   "file_extension": ".py",
   "mimetype": "text/x-python",
   "name": "python",
   "nbconvert_exporter": "python",
   "pygments_lexer": "ipython3",
   "version": "3.9.7"
  }
 },
 "nbformat": 4,
 "nbformat_minor": 5
}
