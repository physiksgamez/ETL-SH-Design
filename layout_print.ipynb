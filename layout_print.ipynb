{
 "cells": [
  {
   "cell_type": "markdown",
   "id": "creative-subdivision",
   "metadata": {},
   "source": [
    "# Print a simplified ETL layout from python"
   ]
  },
  {
   "cell_type": "markdown",
   "id": "collective-lender",
   "metadata": {},
   "source": [
    "Printing to scale on stack exchange: https://stackoverflow.com/questions/29400116/using-matplotlib-how-can-i-print-something-actual-size"
   ]
  },
  {
   "cell_type": "code",
   "execution_count": 6,
   "id": "involved-incident",
   "metadata": {},
   "outputs": [],
   "source": [
    "import matplotlib.pyplot as plt"
   ]
  },
  {
   "cell_type": "markdown",
   "id": "thrown-network",
   "metadata": {},
   "source": [
    "## Simple example"
   ]
  },
  {
   "cell_type": "code",
   "execution_count": 7,
   "id": "expressed-folder",
   "metadata": {},
   "outputs": [
    {
     "data": {
      "image/png": "[encoded data removed]",
      "text/plain": [
       "<Figure size 481.89x481.89 with 1 Axes>"
      ]
     },
     "metadata": {
      "needs_background": "light"
     },
     "output_type": "display_data"
    }
   ],
   "source": [
    "left_margin = 1.   # cm\n",
    "right_margin = 1.  # cm\n",
    "figure_width = 15. # cm\n",
    "figure_height = 15. # cm\n",
    "top_margin = 1.    # cm\n",
    "bottom_margin = 1. # cm\n",
    "\n",
    "box_width = left_margin + figure_width + right_margin   # cm\n",
    "box_height = top_margin + figure_height + bottom_margin # cm\n",
    "\n",
    "cm2inch = 1/2.54 # inch per cm\n",
    "\n",
    "# specifying the width and the height of the box in inches\n",
    "fig = plt.figure(figsize=(box_width*cm2inch,box_height*cm2inch))\n",
    "ax = fig.add_subplot(111)\n",
    "#ax.plot([1,2,3])\n",
    "\n",
    "ax.set_ylim(0,15)\n",
    "ax.set_xlim(0,15)\n",
    "\n",
    "ax.plot([0.5, 1.5],[0.25, 0.25],label='One cm?')\n",
    "ax.plot([6,6],[1,2], label='One cm?')\n",
    "ax.legend()\n",
    "\n",
    "fig.subplots_adjust(left   = left_margin / box_width,\n",
    "                    bottom = bottom_margin / box_height,\n",
    "                    right  = 1. - right_margin / box_width,\n",
    "                    top    = 1. - top_margin   / box_height,\n",
    "                    )\n",
    "fig.savefig('ten_x_seven_cm.png', dpi=128)\n",
    "# dpi = 128 is what works in my display for matching the designed dimensions."
   ]
  },
  {
   "cell_type": "markdown",
   "id": "artistic-pharmacy",
   "metadata": {},
   "source": [
    "## ETL single SH"
   ]
  },
  {
   "cell_type": "code",
   "execution_count": 8,
   "id": "guided-individual",
   "metadata": {},
   "outputs": [],
   "source": [
    "%reload_ext autoreload\n",
    "%autoreload 2\n",
    "\n",
    "from ETL import *;"
   ]
  },
  {
   "cell_type": "code",
   "execution_count": 9,
   "id": "enormous-syndication",
   "metadata": {},
   "outputs": [
    {
     "data": {
      "image/png": "[encoded data removed]",
      "text/plain": [
       "<Figure size 481.89x481.89 with 1 Axes>"
      ]
     },
     "metadata": {
      "needs_background": "light"
     },
     "output_type": "display_data"
    }
   ],
   "source": [
    "sensor_x = 2.14\n",
    "sensor_y = 2.16\n",
    "s = Sensor(sensor_x, sensor_y,deadspace=0.03)  # 3 sides of 0.3mm, 1 side of 0.5mm\n",
    "m = Module(4.310, 5.750, n_sensor_x=2, n_sensor_y=2, sensor_distance_y=sensor_y+0.02, sensor_distance_x=sensor_x+0.02)\n",
    "# this module is now 1mm larger in y\n",
    "\n",
    "left_margin = 1.   # cm\n",
    "right_margin = 1.  # cm\n",
    "figure_width = 15. # cm\n",
    "figure_height = 15. # cm\n",
    "top_margin = 1.    # cm\n",
    "bottom_margin = 1. # cm\n",
    "\n",
    "box_width = left_margin + figure_width + right_margin   # cm\n",
    "box_height = top_margin + figure_height + bottom_margin # cm\n",
    "\n",
    "# specifying the width and the height of the box in inches\n",
    "fig = plt.figure(figsize=(box_width*cm2inch,box_height*cm2inch))\n",
    "ax = fig.add_subplot(111)\n",
    "#ax.plot([1,2,3])\n",
    "\n",
    "m.populate(s)\n",
    "\n",
    "m.move_by(4,4)\n",
    "\n",
    "plt.rcParams['figure.figsize'] = [15, 15]\n",
    "\n",
    "pm = m.getPolygon()\n",
    "plt.gca().add_patch(pm)\n",
    "\n",
    "for sen in m.sensors:\n",
    "    plt.gca().add_patch(sen.getPolygon())\n",
    "    plt.gca().add_patch(sen.getPolygon(active=True))\n",
    "\n",
    "\n",
    "ax.set_ylim(0,15)\n",
    "ax.set_xlim(0,15)\n",
    "\n",
    "ax.plot([0.1,1.1],[0.1,0.1],label='1 cm')\n",
    "ax.plot([0.1,0.1],[0.1,1.1], label='1 cm')\n",
    "ax.legend()\n",
    "\n",
    "fig.subplots_adjust(left   = left_margin / box_width,\n",
    "                    bottom = bottom_margin / box_height,\n",
    "                    right  = 1. - right_margin / box_width,\n",
    "                    top    = 1. - top_margin   / box_height,\n",
    "                    )\n",
    "\n",
    "fig.savefig('module_scale.png', dpi=300)\n",
    "fig.savefig('module_scale.pdf', dpi=500)\n",
    "\n",
    "plt.axis('scaled')\n",
    "plt.show()"
   ]
  },
  {
   "cell_type": "code",
   "execution_count": 10,
   "id": "configured-census",
   "metadata": {},
   "outputs": [],
   "source": [
    "sensor_x = 2.14\n",
    "sensor_y = 2.16\n",
    "sensor_gap_x = 0.03\n",
    "sensor_gap_y = 0.05\n",
    "\n",
    "s = Sensor(sensor_x, sensor_y,deadspace=0.03)  # 3 sides of 0.3mm, 1 side of 0.5mm\n",
    "m = Module(4.310, 5.750, n_sensor_x=2, n_sensor_y=2, sensor_distance_y=sensor_y+0.02, sensor_distance_x=sensor_x+0.02)\n",
    "\n",
    "# populate the module with sensors\n",
    "\n",
    "m.populate(s)\n",
    "\n",
    "m.move_by(0,0)\n",
    "# create some readout and power boards.\n",
    "# The x dimension will be aligned later on, so we just use a dummy value of 10mm.\n",
    "\n",
    "rb = ReadoutBoard(10, module_y, color='green')\n",
    "pb = ReadoutBoard(10,2.95, color='red')\n"
   ]
  },
  {
   "cell_type": "code",
   "execution_count": 11,
   "id": "15c9e118",
   "metadata": {},
   "outputs": [
    {
     "data": {
      "image/png": "[encoded data removed]",
      "text/plain": [
       "<Figure size 720x720 with 1 Axes>"
      ]
     },
     "metadata": {
      "needs_background": "light"
     },
     "output_type": "display_data"
    }
   ],
   "source": [
    "\n",
    "plt.rcParams['figure.figsize'] = [10, 10]\n",
    "\n",
    "pm = m.getPolygon()\n",
    "plt.gca().add_patch(pm)\n",
    "\n",
    "for sen in m.sensors:\n",
    "    plt.gca().add_patch(sen.getPolygon())\n",
    "    plt.gca().add_patch(sen.getPolygon(active=True))\n",
    "    \n",
    "plt.axis('scaled')\n",
    "plt.show()"
   ]
  },
  {
   "cell_type": "code",
   "execution_count": 12,
   "id": "3d02bcb2",
   "metadata": {},
   "outputs": [],
   "source": [
    "r_inner = 31.5\n",
    "r_outer = 118.5\n",
    "module_x = 2.14\n",
    "module_y = 2.16\n",
    "module_gap = 0.5\n",
    "\n",
    "edge_x = 6  # 6mm is the default\n",
    "\n",
    "detector = {}\n",
    "\n",
    "SM = SuperModule(m, pb, rb, n_modules=3, module_gap=module_gap, orientation='below')\n",
    "\n",
    "detector['disk1_front'] = Dee(r_inner, r_outer)\n",
    "detector['disk1_front'].populate(SM, edge_x=edge_x, center_RB=True)"
   ]
  },
  {
   "cell_type": "code",
   "execution_count": 13,
   "id": "5cea6f7b",
   "metadata": {
    "scrolled": false
   },
   "outputs": [
    {
     "data": {
      "image/png": "[encoded data removed]",
      "text/plain": [
       "<Figure size 720x720 with 1 Axes>"
      ]
     },
     "metadata": {
      "needs_background": "light"
     },
     "output_type": "display_data"
    }
   ],
   "source": [
    "plt.rcParams['figure.figsize'] = [10, 10]\n",
    "\n",
    "#plt.gca().add_patch(SM.getPolygon())\n",
    "plt.gca().add_patch(SM.PB.getPolygon())\n",
    "plt.gca().add_patch(SM.RB.getPolygon())\n",
    "\n",
    "for mod in SM.modules:\n",
    "    plt.gca().add_patch(mod.getPolygon())\n",
    "    for sen in mod.sensors:\n",
    "        plt.gca().add_patch(sen.getPolygon())\n",
    "        plt.gca().add_patch(sen.getPolygon(active=True))\n",
    "\n",
    "plt.axis('scaled')\n",
    "plt.show()"
   ]
  },
  {
   "cell_type": "code",
   "execution_count": 15,
   "id": "506b662c",
   "metadata": {},
   "outputs": [
    {
     "data": {
      "image/png": "[encoded data removed]",
      "text/plain": [
       "<Figure size 1080x1080 with 1 Axes>"
      ]
     },
     "metadata": {
      "needs_background": "light"
     },
     "output_type": "display_data"
    }
   ],
   "source": [
    "s = Sensor(sensor_x, sensor_y,deadspace=0.03)  # 3 sides of 0.3mm, 1 side of 0.5mm\n",
    "m = Module(4.310, 5.750, n_sensor_x=2, n_sensor_y=2, sensor_distance_y=sensor_y+0.02, sensor_distance_x=sensor_x+0.02)\n",
    "# this module is now 1mm larger in y\n",
    "detector = {}\n",
    "edge_x = 6  # 6mm is the default\n",
    "\n",
    "detector = {}\n",
    "r_inner = 31.5\n",
    "r_outer = 118.5\n",
    "\n",
    "m.populate(s) #put sensors on module\n",
    "module_x = 2.14\n",
    "module_y = 2.16\n",
    "module_gap = .05\n",
    "rb = ReadoutBoard(10, module_y, color='green')\n",
    "pb = ReadoutBoard(10,2.95, color='red')\n",
    "\n",
    "SM = SuperModule(m, pb, rb, n_modules=3, module_gap=module_gap, orientation='below')\n",
    "\n",
    "detector['disk1_front'] = Dee(r_inner, r_outer)\n",
    "detector['disk1_front'].populate(SM, edge_x=edge_x, center_RB=True)\n",
    "\n",
    "plt.rcParams['figure.figsize'] = [15, 15]\n",
    "\n",
    "#plt.gca().add_patch(SM.getPolygon())\n",
    "plt.gca().add_patch(SM.PB.getPolygon())\n",
    "plt.gca().add_patch(SM.RB.getPolygon())\n",
    "\n",
    "for mod in SM.modules:\n",
    "    plt.gca().add_patch(mod.getPolygon())\n",
    "    for sen in mod.sensors:\n",
    "        plt.gca().add_patch(sen.getPolygon())\n",
    "        plt.gca().add_patch(sen.getPolygon(active=True))\n",
    "\n",
    "plt.axis('scaled')\n",
    "plt.show()\n",
    "\n"
   ]
  },
  {
   "cell_type": "code",
   "execution_count": null,
   "id": "1ea512a2",
   "metadata": {},
   "outputs": [],
   "source": []
  },
  {
   "cell_type": "code",
   "execution_count": null,
   "id": "781b9ebe",
   "metadata": {},
   "outputs": [],
   "source": []
  }
 ],
 "metadata": {
  "kernelspec": {
   "display_name": "Python 3 (ipykernel)",
   "language": "python",
   "name": "python3"
  },
  "language_info": {
   "codemirror_mode": {
    "name": "ipython",
    "version": 3
   },
   "file_extension": ".py",
   "mimetype": "text/x-python",
   "name": "python",
   "nbconvert_exporter": "python",
   "pygments_lexer": "ipython3",
   "version": "3.9.7"
  }
 },
 "nbformat": 4,
 "nbformat_minor": 5
}
