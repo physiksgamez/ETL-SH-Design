{
 "cells": [
  {
   "cell_type": "code",
   "execution_count": null,
   "metadata": {},
   "outputs": [],
   "source": [
    "%load_ext autoreload\n",
    "%autoreload 2\n",
    "\n",
    "from ETL import *"
   ]
  },
  {
   "cell_type": "markdown",
   "metadata": {},
   "source": [
    "# Small sensors\n",
    "\n",
    "As an example, let's build modules, readout boards and power boards for small sensors.\n",
    "A small sensor consists of 16x16 pads, and measures 21.75 x 22mm, with a 0.5mm wide dead area all around the sensor.\n",
    "\n",
    "2x2 sensors will be placed on one module, with a gap of 0.1mm between them.\n",
    "\n",
    "This is a baseline, but we can investigate how the efficiency hit efficiency is impacted if the sensor gaps and/or module gaps are changed\n"
   ]
  },
  {
   "cell_type": "code",
   "execution_count": null,
   "metadata": {},
   "outputs": [],
   "source": [
    "sensor_x = 2.14\n",
    "sensor_y = 2.16\n",
    "sensor_gap_x = 0.03\n",
    "sensor_gap_y = 0.05\n",
    "module_x = 4.310\n",
    "module_y = 5.750\n",
    "\n",
    "s = Sensor(sensor_x, sensor_y, deadspace=0.5)\n",
    "\n",
    "m = Module(module_x, module_y,\n",
    "           n_sensor_x = 2,\n",
    "           n_sensor_y = 2,\n",
    "           sensor_distance_y = sensor_y + sensor_gap_y,\n",
    "           sensor_distance_x=sensor_x+sensor_gap_x\n",
    "          )\n",
    "\n",
    "# populate the module with sensors\n",
    "m.populate(s)\n",
    "\n",
    "# create some readout and power boards.\n",
    "# The x dimension will be aligned later on, so we just use a dummy value of 10mm.\n",
    "\n",
    "rb = ReadoutBoard(10, module_y, color='green')\n",
    "pb = ReadoutBoard(10,2.95, color='red')\n"
   ]
  },
  {
   "cell_type": "markdown",
   "metadata": {},
   "source": [
    "We can look at one module to see if we didn't screw up any dimenstions."
   ]
  },
  {
   "cell_type": "code",
   "execution_count": null,
   "metadata": {},
   "outputs": [],
   "source": [
    "plt.rcParams['figure.figsize'] = [15, 15]\n",
    "\n",
    "pm = m.getPolygon()\n",
    "plt.gca().add_patch(pm)\n",
    "\n",
    "for sen in m.sensors:\n",
    "    plt.gca().add_patch(sen.getPolygon())\n",
    "    plt.gca().add_patch(sen.getPolygon(active=True))\n",
    "    \n",
    "plt.axis('scaled')\n",
    "plt.show()"
   ]
  },
  {
   "cell_type": "markdown",
   "metadata": {},
   "source": [
    "## Populate the disks with sensors and modules\n",
    "\n",
    "First, we create super modules out of N modules, power and readout boards.\n",
    "The smallest entity will probably contain 3 modules, so let's use them as starting point.\n",
    "We assume a gap of 0.5 mm between the modules.\n",
    "The power board can be either above or below the modules, which is set with the orientation parameter.\n",
    "\n",
    "Then, we can create a dee with inner/outer radius of 315 and 1185mm.\n",
    "\n"
   ]
  },
  {
   "cell_type": "code",
   "execution_count": null,
   "metadata": {},
   "outputs": [],
   "source": [
    "r_inner = 31.5\n",
    "r_outer = 118.5\n",
    "\n",
    "module_gap = 0.5\n",
    "\n",
    "edge_x = 6  # 6mm is the default\n",
    "\n",
    "detector = {}\n",
    "\n",
    "SM = SuperModule(m, pb, rb, n_modules=3, module_gap=module_gap, orientation='above')\n",
    "\n",
    "detector['disk1_front'] = Dee(r_inner, r_outer)\n",
    "detector['disk1_front'].populate(SM, edge_x=edge_x, center_RB=True)\n",
    "\n",
    "SM = SuperModule(m, pb, rb, n_modules=3, module_gap=module_gap, orientation='above')\n",
    "\n",
    "detector['disk1_back'] = Dee(315, 1185)\n",
    "detector['disk1_back'].populate(SM, edge_x=edge_x, center_PB=True)\n",
    "\n",
    "SM = SuperModule(m, pb, rb, n_modules=3, module_gap=module_gap, orientation='below')\n",
    "\n",
    "detector['disk2_front'] = Dee(315, 1185)\n",
    "detector['disk2_front'].populate(SM, edge_x=edge_x, center_RB=True)\n",
    "\n",
    "SM = SuperModule(m, pb, rb, n_modules=3, module_gap=module_gap, orientation='below')\n",
    "\n",
    "detector['disk2_back'] = Dee(315, 1185)\n",
    "detector['disk2_back'].populate(SM, edge_x=edge_x, center_PB=True)\n",
    "\n"
   ]
  },
  {
   "cell_type": "markdown",
   "metadata": {},
   "source": [
    "## Supermodule\n",
    "\n",
    "We can then look at one of the previously created super modules.\n",
    "The last one we created has the power board below the modules, and contains 3 modules.\n",
    "Let's see if this is actually the case.\n"
   ]
  },
  {
   "cell_type": "code",
   "execution_count": null,
   "metadata": {},
   "outputs": [],
   "source": [
    "plt.rcParams['figure.figsize'] = [15, 15]\n",
    "\n",
    "#plt.gca().add_patch(SM.getPolygon())\n",
    "plt.gca().add_patch(SM.PB.getPolygon())\n",
    "plt.gca().add_patch(SM.RB.getPolygon())\n",
    "\n",
    "for mod in SM.modules:\n",
    "    plt.gca().add_patch(mod.getPolygon())\n",
    "    for sen in mod.sensors:\n",
    "        plt.gca().add_patch(sen.getPolygon())\n",
    "        plt.gca().add_patch(sen.getPolygon(active=True))\n",
    "\n",
    "plt.axis('scaled')\n",
    "plt.show()"
   ]
  },
  {
   "cell_type": "markdown",
   "metadata": {},
   "source": [
    "## Active area of the full detector"
   ]
  },
  {
   "cell_type": "code",
   "execution_count": null,
   "metadata": {},
   "outputs": [],
   "source": [
    "inner = plt.Circle((0, 0), 315,fill=None, edgecolor='r')\n",
    "outer = plt.Circle((0, 0), 1185,fill=None, edgecolor='r')\n",
    "\n",
    "plt.rcParams['figure.figsize'] = [15, 15]\n",
    "\n",
    "plt.gca().add_patch(inner)\n",
    "plt.gca().add_patch(outer)\n",
    "\n",
    "for dee in detector:\n",
    "    for slot in detector[dee].slots_flat:\n",
    "        if slot.covered:\n",
    "            #plt.gca().add_patch(slot.getPolygon())\n",
    "            #plt.gca().add_patch(slot.RB.getPolygon())\n",
    "            #plt.gca().add_patch(slot.PB.getPolygon())\n",
    "            for mod in slot.modules:\n",
    "                for sen in mod.sensors:\n",
    "                    plt.gca().add_patch(sen.getPolygon(active=True))\n",
    "\n",
    "\n",
    "#plt.savefig('test.pdf')\n",
    "        \n",
    "plt.axis('scaled')\n",
    "plt.show()"
   ]
  },
  {
   "cell_type": "code",
   "execution_count": null,
   "metadata": {},
   "outputs": [],
   "source": [
    "\n",
    "inner = plt.Circle((0, 0), 315,fill=None, edgecolor='r')\n",
    "outer = plt.Circle((0, 0), 1185,fill=None, edgecolor='r')\n",
    "\n",
    "plt.rcParams['figure.figsize'] = [15, 15]\n",
    "\n",
    "plt.gca().add_patch(inner)\n",
    "plt.gca().add_patch(outer)\n",
    "\n",
    "for SM in detector['disk2_front'].supermodules:\n",
    "    plt.gca().add_patch(SM.getPolygon())\n",
    "\n",
    "for slot in detector['disk2_front'].slots_flat:\n",
    "    if slot.covered:\n",
    "        for mod in slot.modules:\n",
    "            for sen in mod.sensors:\n",
    "                plt.gca().add_patch(sen.getPolygon(active=True))\n",
    "\n",
    "#plt.savefig('test.pdf')\n",
    "        \n",
    "plt.axis('scaled')\n",
    "plt.show()"
   ]
  },
  {
   "cell_type": "markdown",
   "metadata": {},
   "source": [
    "# Throwing random coordinates"
   ]
  },
  {
   "cell_type": "code",
   "execution_count": null,
   "metadata": {},
   "outputs": [],
   "source": [
    "z_ref = 2.99825\n",
    "z = [\n",
    "    2.99825,\n",
    "    3.0055,\n",
    "    3.02075,\n",
    "    3.0285,\n",
    "]"
   ]
  },
  {
   "cell_type": "code",
   "execution_count": null,
   "metadata": {},
   "outputs": [],
   "source": [
    "import time\n",
    "import random\n",
    "\n",
    "starttime = time.time()\n",
    "\n",
    "eta_max = 2.950\n",
    "eta_min = 1.659\n",
    "eta_range = eta_max-eta_min\n",
    "\n",
    "nEvents = int(1e5)\n",
    "\n",
    "eta = np.random.rand(nEvents)*eta_range + eta_min\n",
    "phi = np.random.rand(nEvents)*np.pi - np.pi/2\n",
    "\n",
    "vec = three_vector.fromEtaPhi(eta, phi, np.ones(nEvents)*z_ref*1000)\n",
    "\n",
    "vec_list = []\n",
    "for x,y in zip(vec.x, vec.y):\n",
    "    vec_list.append(three_vector(x,y,z_ref*1000))\n",
    "\n",
    "hits = {\n",
    "    'baseline':[],\n",
    "    \n",
    "       }\n",
    "   \n",
    "nHits = {\n",
    "    'baseline':[],\n",
    "}\n",
    "\n",
    "detector_variants = {\n",
    "    'baseline': detector,\n",
    "    #'remove_face': detector_remove,\n",
    "    }\n",
    "\n",
    "layers = ['disk1_front', 'disk1_back', 'disk2_front', 'disk2_back']\n",
    "\n",
    "\n",
    "for v in vec_list:    \n",
    "    for det in detector_variants:\n",
    "        n = 0\n",
    "        iLayer = 0\n",
    "        nModules = 0\n",
    "\n",
    "        for layer in layers:\n",
    "            x_shift = 1000*(z[iLayer]-z_ref)*np.tan(v.theta)*np.cos(v.phi)\n",
    "            y_shift = 1000*(z[iLayer]-z_ref)*np.tan(v.theta)*np.sin(v.phi)\n",
    "            x,y = ((v.x + x_shift), (v.y + y_shift))\n",
    "                \n",
    "            if detector_variants[det][layer].intersect(x, y):\n",
    "                n += 1\n",
    "            iLayer += 1\n",
    "            \n",
    "            nModules += sum( [ sum([ x for x in row if x==1]) for row in detector_variants[det][layer].module_matrix ])\n",
    "            \n",
    "        if n>0: hits[det].append(v)\n",
    "        nHits[det].append(n)\n",
    "        \n",
    "print (\"Detector option %s:\"%det)\n",
    "print (\" - Number of modules: %s\"%(nModules*4))\n",
    "    \n",
    "    \n",
    "\n",
    "endtime = time.time()\n",
    "\n",
    "print (endtime-starttime)"
   ]
  },
  {
   "cell_type": "code",
   "execution_count": null,
   "metadata": {},
   "outputs": [],
   "source": [
    "from yahist import Hist1D\n",
    "\n",
    "from yahist.utils import fit_hist, ignore_division_errors\n",
    "import scipy"
   ]
  },
  {
   "cell_type": "code",
   "execution_count": null,
   "metadata": {},
   "outputs": [],
   "source": [
    "import os\n",
    "import mplhep as hep\n",
    "\n",
    "plt.style.use(hep.style.CMS)  # or ATLAS/LHCb\n",
    "\n",
    "bins = \"40,1.659,2.950\"\n",
    "\n",
    "num = Hist1D([v.eta for v in hits['baseline']], bins=bins)\n",
    "den = Hist1D([v.eta for v in vec_list], bins=bins)\n",
    "\n",
    "fig, ax = plt.subplots(1,1,figsize=(7,7))\n",
    "\n",
    "h = num.divide(den, binomial=True)\n",
    "\n",
    "h.plot(show_errors=True, color=\"blue\", label='Baseline: %.2f'%(len(hits['baseline'])/len(vec_list)))\n",
    "\n",
    "ax.set_ylabel('Efficiency')\n",
    "ax.set_xlabel(r'$\\eta$')\n",
    "\n",
    "ax.set_ylim(0.85,1.05)\n",
    "\n",
    "fig.text(0.0, 0.995, '$\\\\bf{CMS}$ ETL TAMALES', fontsize=20,  horizontalalignment='left', verticalalignment='bottom', transform=ax.transAxes )\n",
    "\n",
    "name = 'efficiency_examples'\n",
    "\n",
    "fig.savefig(os.path.join(\"{}.pdf\".format(name)))\n",
    "fig.savefig(os.path.join(\"{}.png\".format(name)))"
   ]
  },
  {
   "cell_type": "code",
   "execution_count": null,
   "metadata": {},
   "outputs": [],
   "source": [
    "bins = \"50,300,1200\"\n",
    "\n",
    "num = Hist1D([v.r for v in hits['baseline']], bins=bins)\n",
    "den = Hist1D([v.r for v in vec_list], bins=bins)\n",
    "\n",
    "fig, ax = plt.subplots(1,1,figsize=(7,7))\n",
    "\n",
    "h = num.divide(den, binomial=True)\n",
    "\n",
    "h.plot(show_errors=True, color=\"blue\", label='Baseline: %.2f'%(len(hits['baseline'])/len(vec_list)))\n",
    "\n",
    "ax.set_ylabel('Efficiency')\n",
    "ax.set_xlabel('r (mm)')\n",
    "\n",
    "ax.set_ylim(0.05,1.05)\n",
    "\n",
    "fig.text(0.0, 0.995, '$\\\\bf{CMS}$ ETL TAMALES', fontsize=20,  horizontalalignment='left', verticalalignment='bottom', transform=ax.transAxes )\n",
    "\n",
    "name = 'efficiency_vs_r'\n",
    "\n",
    "fig.savefig(os.path.join(\"{}.pdf\".format(name)))\n",
    "fig.savefig(os.path.join(\"{}.png\".format(name)))"
   ]
  },
  {
   "cell_type": "code",
   "execution_count": null,
   "metadata": {},
   "outputs": [],
   "source": [
    "h"
   ]
  },
  {
   "cell_type": "code",
   "execution_count": null,
   "metadata": {},
   "outputs": [],
   "source": [
    "test = Hist1D(nHits['baseline'], bins=\"5,-0.5,4.5\")\n",
    "test"
   ]
  },
  {
   "cell_type": "code",
   "execution_count": null,
   "metadata": {},
   "outputs": [],
   "source": [
    "np.mean(nHits['baseline'])"
   ]
  },
  {
   "cell_type": "code",
   "execution_count": null,
   "metadata": {},
   "outputs": [],
   "source": [
    "df = pd.DataFrame(nHits)"
   ]
  },
  {
   "cell_type": "code",
   "execution_count": null,
   "metadata": {},
   "outputs": [],
   "source": [
    "len(df['baseline'][df['baseline']>1])/len(nHits['baseline'])"
   ]
  },
  {
   "cell_type": "markdown",
   "metadata": {},
   "source": [
    "## Potential descoping\n",
    "\n",
    "WIP"
   ]
  },
  {
   "cell_type": "code",
   "execution_count": null,
   "metadata": {},
   "outputs": [],
   "source": [
    "d = detector_variants['baseline']['disk2_back']\n",
    "filled_slots = sum( [ sum([ x for x in row if x==1]) for row in d.module_matrix ])\n",
    "filled_slots*2 # rough estimate of total number of modules"
   ]
  },
  {
   "cell_type": "code",
   "execution_count": null,
   "metadata": {},
   "outputs": [],
   "source": [
    "SM = SuperModule(m, pb, rb, n_modules=3, module_gap=module_gap, orientation='above')\n",
    "\n",
    "descoped = Dee(315, 1080)\n",
    "descoped.populate(SM, edge_x=6, center_PB=True)\n",
    "\n",
    "filled_slots = sum( [ sum([ x for x in row if x==1]) for row in descoped.module_matrix ])\n",
    "filled_slots"
   ]
  },
  {
   "cell_type": "code",
   "execution_count": 28,
   "metadata": {},
   "outputs": [
    {
     "data": {
      "text/plain": [
       "384.8"
      ]
     },
     "execution_count": 28,
     "metadata": {},
     "output_type": "execute_result"
    }
   ],
   "source": [
    "0.8*481"
   ]
  },
  {
   "cell_type": "code",
   "execution_count": null,
   "metadata": {},
   "outputs": [],
   "source": []
  }
 ],
 "metadata": {
  "kernelspec": {
   "display_name": "Python 3 (ipykernel)",
   "language": "python",
   "name": "python3"
  },
  "language_info": {
   "codemirror_mode": {
    "name": "ipython",
    "version": 3
   },
   "file_extension": ".py",
   "mimetype": "text/x-python",
   "name": "python",
   "nbconvert_exporter": "python",
   "pygments_lexer": "ipython3",
   "version": "3.9.7"
  }
 },
 "nbformat": 4,
 "nbformat_minor": 4
}
